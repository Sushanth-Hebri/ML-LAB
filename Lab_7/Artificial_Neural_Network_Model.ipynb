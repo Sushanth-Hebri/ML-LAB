{
  "nbformat": 4,
  "nbformat_minor": 0,
  "metadata": {
    "colab": {
      "provenance": []
    },
    "kernelspec": {
      "name": "python3",
      "display_name": "Python 3"
    },
    "language_info": {
      "name": "python"
    }
  },
  "cells": [
    {
      "cell_type": "code",
      "execution_count": 3,
      "metadata": {
        "id": "AeazKiw6C5xW"
      },
      "outputs": [],
      "source": [
        "import numpy as np\n",
        "X = np.array(([2, 9], [1, 5], [3, 6]), dtype=float) #\n",
        "Y= np.array(([92], [86], [89]), dtype=float)  #two inputs (sleep, study] one output [Expected & in Exams]\n",
        "X = X/np.amax (X, axis=0) # maximum of X array longitudinally\n",
        "Y = Y/100\n",
        "epoch=5000 #Setting training iterations\n",
        "lr=0.1 #Setting learning rate\n",
        "inputlayer_neurons = 2\n",
        "hiddenlayer_neurons = 3\n",
        "output_neurons = 1\n",
        "\n",
        "wh=np.random.uniform(size=(inputlayer_neurons, hiddenlayer_neurons))\n",
        "bh=np.random.uniform(size=(1,hiddenlayer_neurons))\n",
        "wout=np.random.uniform(size= (hiddenlayer_neurons, output_neurons))\n",
        "bout=np.random.uniform(size=(1,output_neurons))"
      ]
    },
    {
      "cell_type": "code",
      "source": [
        "#Sigmoid Function\n",
        "def sigmoid (x):\n",
        "   return 1/(1 + np.exp(-x))\n",
        "#Derivative of Sigmoid Function\n",
        "def derivatives_sigmoid(x):\n",
        "   return x * (1-x)\n",
        "#draws a random range of numbers uniformly of dim\n",
        "for i in range (epoch):\n",
        "#Forward Propogation\n",
        " hinpl=np.dot(X, wh)\n",
        " hinp=hinpl+bh\n",
        " hlayer_act=sigmoid(hinp)\n",
        " outinpl=np.dot (hlayer_act, wout)\n",
        " outinp=outinpl+ bout\n",
        " output=sigmoid(outinp)\n",
        "#Backpropagation\n",
        " EO=Y-output\n",
        " outgrad=derivatives_sigmoid(output)\n",
        " d_output = EO* outgrad\n",
        " EH = d_output.dot(wout.T)"
      ],
      "metadata": {
        "id": "6XO3fVH8GD4B"
      },
      "execution_count": 6,
      "outputs": []
    },
    {
      "cell_type": "code",
      "source": [
        "#how much hidden layer weights contributed to error\n",
        "hiddengrad=derivatives_sigmoid(hlayer_act)\n",
        "d_hiddenlayer=EH*hiddengrad\n",
        "#dotproduct of nextlayererror and currentlayerop\n",
        "wout += hlayer_act.T.dot (d_output) *lr\n",
        "wh + X.T.dot (d_hiddenlayer) *lr\n",
        "print(\"Input: \\n\" + str(X))\n",
        "print(\"Actual Output: \\n\" + str(Y))\n",
        "print(\"Predicted Output: \\n\",output)"
      ],
      "metadata": {
        "colab": {
          "base_uri": "https://localhost:8080/"
        },
        "id": "Vek_bfUWH2AQ",
        "outputId": "66292a19-d2bf-4800-8f3f-ea7c1286de89"
      },
      "execution_count": 8,
      "outputs": [
        {
          "output_type": "stream",
          "name": "stdout",
          "text": [
            "Input: \n",
            "[[0.66666667 1.        ]\n",
            " [0.33333333 0.55555556]\n",
            " [1.         0.66666667]]\n",
            "Actual Output: \n",
            "[[0.92]\n",
            " [0.86]\n",
            " [0.89]]\n",
            "Predicted Output: \n",
            " [[0.86847065]\n",
            " [0.8540307 ]\n",
            " [0.8673203 ]]\n"
          ]
        }
      ]
    },
    {
      "cell_type": "code",
      "source": [],
      "metadata": {
        "id": "hzlngbEYIlW4"
      },
      "execution_count": null,
      "outputs": []
    }
  ]
}