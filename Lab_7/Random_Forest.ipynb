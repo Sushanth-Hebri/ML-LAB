{
  "nbformat": 4,
  "nbformat_minor": 0,
  "metadata": {
    "colab": {
      "provenance": []
    },
    "kernelspec": {
      "name": "python3",
      "display_name": "Python 3"
    },
    "language_info": {
      "name": "python"
    }
  },
  "cells": [
    {
      "cell_type": "code",
      "execution_count": 3,
      "metadata": {
        "colab": {
          "base_uri": "https://localhost:8080/"
        },
        "id": "PSYpXAgFKvz4",
        "outputId": "4be29ed9-b904-4f2d-b0e0-551dbaeaf2a6"
      },
      "outputs": [
        {
          "output_type": "stream",
          "name": "stdout",
          "text": [
            "Accuracy: 0.9731285988483686\n",
            "\n",
            "Classification Report:\n",
            "              precision    recall  f1-score   support\n",
            "\n",
            "           0       0.97      1.00      0.98       436\n",
            "           1       0.99      0.85      0.91        85\n",
            "\n",
            "    accuracy                           0.97       521\n",
            "   macro avg       0.98      0.92      0.95       521\n",
            "weighted avg       0.97      0.97      0.97       521\n",
            "\n"
          ]
        }
      ],
      "source": [
        "import numpy as np\n",
        "import pandas as pd\n",
        "from sklearn.model_selection import train_test_split\n",
        "from sklearn.feature_extraction.text import CountVectorizer\n",
        "from sklearn.ensemble import RandomForestClassifier\n",
        "from sklearn.metrics import accuracy_score, classification_report\n",
        "\n",
        "\n",
        "data = pd.read_csv('/content/lingSpam.csv')\n",
        "\n",
        "\n",
        "X = data['Body']\n",
        "y = data['Label']\n",
        "\n",
        "# Convert text data into numerical vectors using CountVectorizer\n",
        "vectorizer = CountVectorizer()\n",
        "X = vectorizer.fit_transform(X)\n",
        "\n",
        "# Split Data into Training and Testing Sets\n",
        "X_train, X_test, y_train, y_test = train_test_split(X, y, test_size=0.2, random_state=42)\n",
        "\n",
        "# Train the Random Forest Classifier\n",
        "rf_classifier = RandomForestClassifier(n_estimators=100, random_state=42)\n",
        "rf_classifier.fit(X_train, y_train)\n",
        "\n",
        "# Make Predictions\n",
        "y_pred = rf_classifier.predict(X_test)\n",
        "\n",
        "# Evaluate Model Performance\n",
        "accuracy = accuracy_score(y_test, y_pred)\n",
        "print(\"Accuracy:\", accuracy)\n",
        "\n",
        "# Generate classification report\n",
        "print(\"\\nClassification Report:\")\n",
        "print(classification_report(y_test, y_pred))\n"
      ]
    },
    {
      "cell_type": "code",
      "source": [
        "import numpy as np\n",
        "import pandas as pd\n",
        "from sklearn.feature_extraction.text import CountVectorizer\n",
        "from sklearn.ensemble import RandomForestClassifier\n",
        "\n",
        "# Load the model and vectorizer\n",
        "rf_classifier = RandomForestClassifier(n_estimators=100, random_state=42)\n",
        "vectorizer = CountVectorizer()\n",
        "\n",
        "# Load the dataset\n",
        "data = pd.read_csv('/content/lingSpam.csv')\n",
        "\n",
        "X = data['Body']\n",
        "y = data['Label']\n",
        "\n",
        "# Convert text data into numerical vectors using CountVectorizer\n",
        "X = vectorizer.fit_transform(X)\n",
        "\n",
        "# Train the Random Forest Classifier\n",
        "rf_classifier.fit(X, y)\n",
        "\n",
        "def predict_spam(input_text):\n",
        "    # Vectorize the input text\n",
        "    input_vectorized = vectorizer.transform([input_text])\n",
        "    # Predict using the trained model\n",
        "    prediction = rf_classifier.predict(input_vectorized)\n",
        "    if prediction[0] == 'spam':\n",
        "        return \"The input text is NOT classified as SPAM.\"\n",
        "    else:\n",
        "        return \"The input text is  classified as spam.\"\n",
        "\n",
        "\n"
      ],
      "metadata": {
        "id": "h97oQfDTRRSu"
      },
      "execution_count": 7,
      "outputs": []
    },
    {
      "cell_type": "code",
      "source": [
        "# Test the function with user input\n",
        "user_input = input(\"Enter the text to check for spam: \")\n",
        "result = predict_spam(user_input)\n",
        "print(result)"
      ],
      "metadata": {
        "colab": {
          "base_uri": "https://localhost:8080/"
        },
        "id": "SyO2hQr9R7eV",
        "outputId": "e1e65abb-396e-490d-c80a-8569fb93ab84"
      },
      "execution_count": 8,
      "outputs": [
        {
          "output_type": "stream",
          "name": "stdout",
          "text": [
            "Enter the text to check for spam: Subject: email 57 million people for $ 99    57 million email addresses for only $ 99 you want to make some money ? i can put you in touch with over 50 million people at virtually no cost . can you make one cent from each of theses names ? if you can you have a profit of over $ 500 , 000 . 00 that 's right , i have 57 million fresh email addresses that i will sell for only $ 99 . these are all fresh addresses that include almost every person on the internet today , with no duplications . they are all sorted and ready to be mailed . that is the best deal anywhere today ! imagine selling a product for only $ 5 and getting only a 1 / 10 % response . that 's $ 2 , 850 , 000 in your pocket ! ! ! do n't believe it ? people are making that kind of money right now by doing the same thing , that is why you get so much email from people selling you their product . . . . it works ! i will even tell you how to mail them with easy to follow step-by - step instructions i include with every order . these 57 million email addresses are yours to keep , so you can use them over and over and they come on 1 cd . this offer is not for everyone . if you can not see the just how excellent the risk / reward ratio in this offer is then there is nothing i can do for you . to make money you must stop dreaming and take action . * * * * * * * * * * * * * * * * * * * * * * * * * * * * * * * * * * * * * * * * the bronze marketing setup 57 , 000 , 000 email addresses on cd these name are all in text files ready to mail ! ! ! $ 99 . 00 * * * * * * * * * * * * * * * * * * * * * * * * * * * * * * * * * * * * * * * * the silver marketing setup 57 , 000 , 000 email addresses on cd these name are all in text files ready to mail ! ! ! and 8 different bulk email programs and tools to help with your mailings and list management . $ 139 . 00 * * * * * * * * * * * * * * * * * * * * * * * * * * * * * * * * * * * * * * * * the gold marketing setup virtually everything ! ! 57 , 000 , 000 email addresses on cd these name are all in text files ready to mail ! ! ! and 8 different bulk email programs and tools to help with your mailings and list management . and over 500 different business reports now being sold on the internet for up to $ 100 each . you get full rights to resell these reports . with this package you get the email addresses , the software to mail them and ready to sell information products . and . . . . . . . . a collection of the 100 best money making adds currently floating around on the internet . $ 189 * * * * * * * * * * * * * * * * * * * * * * * * * * * * * * * * * * * * * * * * the platinum marketing setup for those ready to \" own the net \" 57 , 000 , 000 email addresses on cd these name are all in text files ready to mail ! ! ! and 8 different bulk email programs and tools to help with your mailings and list management . and over 500 different business reports now being sold on the internet for up to $ 100 each . you get full rights to resell these reports . with this package you get the email addresses , the software to mail them and ready to sell information products . and . . . . . . . . a collection of the 100 best money making adds currently floating around on the internet . and . . . . . . floodgate & goldrush fully registered software ! ! this is the number 1 most powerful mass mailing software in the world today . there is nothing that can compare for speed , reliability , performance , and the ability to use \" stealth \" functions . this is the package that will allow you to use the net as your own personal \" money tree \" at will ! ! ! $ 379 * * * * * * * * * * * * * * * * * * * * * * * * * * * * * * * * * * * * * * * * several ways to order ! ! ! if you order by phone we will ship your cd containing the 57 million + names within 12 hours of your order ! ! ! 1 ) we accept : american express or visa mastercard type of card amx / visa / mc ? ? _ _ _ _ _ _ _ _ _ _ _ _ _ _ _ expiration date _ _ _ _ _ _ _ _ _ _ _ _ _ _ _ _ _ _ _ _ _ _ _ _ _ _ _ name on credit card _ _ _ _ _ _ _ _ _ _ _ _ _ _ _ _ _ _ _ _ _ _ _ _ credit card # _ _ _ _ _ _ _ _ _ _ _ _ _ _ _ _ _ _ _ _ _ _ _ _ _ _ _ _ _ _ _ _ billing address _ _ _ _ _ _ _ _ _ _ _ _ _ _ _ _ _ _ _ _ _ _ _ _ _ _ _ _ city _ _ _ _ _ _ _ _ _ _ _ _ _ _ _ _ _ _ _ _ _ _ _ _ _ _ _ _ _ _ _ _ _ _ _ _ _ _ _ _ _ state _ _ _ _ _ _ _ _ _ _ _ _ _ _ _ _ zip _ _ _ _ _ _ _ _ _ _ _ _ _ _ _ _ _ _ _ _ _ phone include area code _ _ _ _ _ _ _ _ _ _ _ _ _ _ _ _ _ _ _ email address _ _ _ _ _ _ _ _ _ _ _ _ _ _ _ _ _ _ _ _ _ _ _ _ _ _ _ _ _ _ we will bill selected amount to your account plus the following shipping costs shipping cost of 3 . 85 first class mail shipping cost of 15 . 00 24 hour express mail / federal express sales tax added to ar residents > > > send correct amount in cash , check or money order to : > > > fire power ! ! > > > 1320 n . \" b \" st . , suite 112-24 > > > fort smith , ar 72901 2 ) send the same above requested credit card information to above address . 3 ) call phone # 530-876 - 4293 . this is a 24 hour phone number to place a credit card order . fire power ! is a private company and is not affiliated with , or endorsed by , aol , msn , or any other internet service provider . copyright 1998 all rights reserved iq\n",
            "The input text is  classified as spam.\n"
          ]
        }
      ]
    }
  ]
}